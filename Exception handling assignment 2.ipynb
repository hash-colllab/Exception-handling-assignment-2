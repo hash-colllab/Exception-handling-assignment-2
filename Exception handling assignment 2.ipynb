{
  "metadata": {
    "kernelspec": {
      "name": "python",
      "display_name": "Python (Pyodide)",
      "language": "python"
    },
    "language_info": {
      "codemirror_mode": {
        "name": "python",
        "version": 3
      },
      "file_extension": ".py",
      "mimetype": "text/x-python",
      "name": "python",
      "nbconvert_exporter": "python",
      "pygments_lexer": "ipython3",
      "version": "3.8"
    }
  },
  "nbformat_minor": 4,
  "nbformat": 4,
  "cells": [
    {
      "cell_type": "code",
      "source": "# Ans 1:-  exception class is create becauses it helps in maintaining clarity and correctness.",
      "metadata": {
        "trusted": true
      },
      "outputs": [],
      "execution_count": 1
    },
    {
      "cell_type": "code",
      "source": "# Ans 2:-",
      "metadata": {
        "trusted": true
      },
      "outputs": [],
      "execution_count": 2
    },
    {
      "cell_type": "code",
      "source": "import inspect \n  \n\ndef treeClass(cls, ind = 0): \n    \n   \n    print ('-' * ind, cls.__name__) \n      \n    \n    for i in cls.__subclasses__(): \n        treeClass(i, ind + 3) \n  \nprint(\"Hierarchy for Built-in exceptions is : \") \n  \n\ninspect.getclasstree(inspect.getmro(BaseException)) \n  \n\ntreeClass(BaseException) ",
      "metadata": {
        "trusted": true
      },
      "outputs": [
        {
          "name": "stdout",
          "text": "Hierarchy for Built-in exceptions is : \n BaseException\n--- BaseExceptionGroup\n------ ExceptionGroup\n--- Exception\n------ ArithmeticError\n--------- FloatingPointError\n--------- OverflowError\n--------- ZeroDivisionError\n------------ DivisionByZero\n------------ DivisionUndefined\n--------- DecimalException\n------------ Clamped\n------------ Rounded\n--------------- Underflow\n--------------- Overflow\n------------ Inexact\n--------------- Underflow\n--------------- Overflow\n------------ Subnormal\n--------------- Underflow\n------------ DivisionByZero\n------------ FloatOperation\n------------ InvalidOperation\n--------------- ConversionSyntax\n--------------- DivisionImpossible\n--------------- DivisionUndefined\n--------------- InvalidContext\n------ AssertionError\n------ AttributeError\n--------- FrozenInstanceError\n------ BufferError\n------ EOFError\n--------- IncompleteReadError\n------ ImportError\n--------- ModuleNotFoundError\n------------ PackageNotFoundError\n--------- ZipImportError\n------ LookupError\n--------- IndexError\n--------- KeyError\n------------ UnknownBackend\n--------- CodecRegistryError\n------ MemoryError\n------ NameError\n--------- UnboundLocalError\n------ OSError\n--------- BlockingIOError\n--------- ChildProcessError\n--------- ConnectionError\n------------ BrokenPipeError\n------------ ConnectionAbortedError\n------------ ConnectionRefusedError\n------------ ConnectionResetError\n--------------- RemoteDisconnected\n--------- FileExistsError\n--------- FileNotFoundError\n--------- InterruptedError\n--------- IsADirectoryError\n--------- NotADirectoryError\n--------- PermissionError\n--------- ProcessLookupError\n--------- TimeoutError\n--------- UnsupportedOperation\n--------- itimer_error\n--------- Error\n------------ SameFileError\n--------- SpecialFileError\n--------- ExecError\n--------- ReadError\n--------- herror\n--------- gaierror\n--------- SSLError\n------------ SSLCertVerificationError\n------------ SSLZeroReturnError\n------------ SSLWantWriteError\n------------ SSLWantReadError\n------------ SSLSyscallError\n------------ SSLEOFError\n--------- URLError\n------------ HTTPError\n------------ ContentTooShortError\n------ ReferenceError\n------ RuntimeError\n--------- NotImplementedError\n------------ StdinNotImplementedError\n--------- RecursionError\n--------- _DeadlockError\n--------- BrokenBarrierError\n--------- BrokenExecutor\n------------ BrokenThreadPool\n--------- SendfileNotAvailableError\n--------- BrokenBarrierError\n------ StopAsyncIteration\n------ StopIteration\n------ SyntaxError\n--------- IndentationError\n------------ TabError\n------ SystemError\n--------- CodecRegistryError\n------ TypeError\n--------- MultipartConversionError\n--------- FloatOperation\n------ ValueError\n--------- UnicodeError\n------------ UnicodeDecodeError\n------------ UnicodeEncodeError\n------------ UnicodeTranslateError\n--------- UnsupportedOperation\n--------- Error\n--------- IllegalMonthError\n--------- IllegalWeekdayError\n--------- MessageDefect\n------------ NoBoundaryInMultipartDefect\n------------ StartBoundaryNotFoundDefect\n------------ CloseBoundaryNotFoundDefect\n------------ FirstHeaderLineIsContinuationDefect\n------------ MisplacedEnvelopeHeaderDefect\n------------ MissingHeaderBodySeparatorDefect\n------------ MultipartInvariantViolationDefect\n------------ InvalidMultipartContentTransferEncodingDefect\n------------ UndecodableBytesDefect\n------------ InvalidBase64PaddingDefect\n------------ InvalidBase64CharactersDefect\n------------ InvalidBase64LengthDefect\n------------ HeaderDefect\n--------------- InvalidHeaderDefect\n--------------- HeaderMissingRequiredValue\n--------------- NonPrintableDefect\n--------------- ObsoleteHeaderDefect\n--------------- NonASCIILocalPartDefect\n--------------- InvalidDateDefect\n--------- JSONDecodeError\n--------- ELFInvalid\n--------- InvalidVersion\n--------- InvalidWheelFilename\n--------- InvalidSdistFilename\n--------- InvalidSpecifier\n--------- InvalidMarker\n--------- UndefinedComparison\n--------- UndefinedEnvironmentName\n--------- InvalidRequirement\n--------- RequirementParseError\n--------- PiplitePyPIDisabled\n--------- ClassNotFound\n--------- ClipboardEmpty\n--------- SSLCertVerificationError\n--------- MacroToEdit\n------ Warning\n--------- BytesWarning\n--------- DeprecationWarning\n------------ ProvisionalWarning\n--------- EncodingWarning\n--------- FutureWarning\n------------ ProvisionalCompleterWarning\n--------- ImportWarning\n--------- PendingDeprecationWarning\n--------- ResourceWarning\n--------- RuntimeWarning\n------------ PEP440Warning\n--------- SyntaxWarning\n--------- UnicodeWarning\n--------- UserWarning\n------------ FormatterWarning\n------------ GetPassWarning\n--------- APIVersionWarning\n------ ExceptionGroup\n------ error\n------ error\n------ TokenError\n------ StopTokenizing\n------ Error\n------ _OptionError\n------ EvalCodeResultException\n------ RegistryError\n------ _GiveupOnFastCopy\n------ JsException\n------ ConversionError\n------ InternalError\n------ ClassFoundException\n------ EndOfBlock\n------ Error\n--------- CancelledError\n--------- InvalidStateError\n------ _GiveupOnSendfile\n------ Error\n------ SubprocessError\n--------- CalledProcessError\n--------- TimeoutExpired\n------ InvalidStateError\n------ LimitOverrunError\n------ QueueEmpty\n------ QueueFull\n------ JsException\n------ Incomplete\n------ error\n------ BadZipFile\n------ LargeZipFile\n------ UnsupportedWheel\n------ TarError\n--------- ExtractError\n--------- ReadError\n--------- CompressionError\n--------- StreamError\n--------- HeaderError\n------------ EmptyHeaderError\n------------ TruncatedHeaderError\n------------ EOFHeaderError\n------------ InvalidHeaderError\n------------ SubsequentHeaderError\n------ Error\n------ MessageError\n--------- MessageParseError\n------------ HeaderParseError\n------------ BoundaryError\n--------- MultipartConversionError\n--------- CharsetError\n------ ParserSyntaxError\n------ UnsupportedAPIVersion\n------ UnsupportedMIMEType\n------ ResolutionError\n--------- UnknownExtra\n------ UnsupportedWheel\n------ SkipTest\n------ _ShouldStop\n------ _UnexpectedSuccess\n------ ArgumentError\n------ ArgumentTypeError\n------ InvalidSpecError\n------ TraitError\n------ PickleError\n--------- PicklingError\n--------- UnpicklingError\n------ _Stop\n------ Empty\n------ Full\n------ ConfigError\n--------- ConfigLoaderError\n------------ ArgumentError\n--------- ConfigFileNotFound\n------ ConfigurableError\n--------- MultipleInstanceError\n------ ApplicationError\n------ ErrorDuringImport\n------ NotOneValueFound\n------ KnownIssue\n------ VerifierFailure\n------ CannotEval\n------ OptionError\n------ BdbQuit\n------ Restart\n------ FindCmdError\n------ HomeDirError\n------ ProfileDirError\n------ IPythonCoreError\n--------- TryNext\n--------- UsageError\n--------- StdinNotImplementedError\n------ InputRejected\n------ GetoptError\n------ ErrorToken\n------ _Error\n------ PrefilterError\n------ AliasError\n--------- InvalidAliasError\n------ Error\n--------- InterfaceError\n--------- DatabaseError\n------------ InternalError\n------------ OperationalError\n------------ ProgrammingError\n------------ IntegrityError\n------------ DataError\n------------ NotSupportedError\n------ Warning\n------ SpaceInInput\n------ DOMException\n--------- IndexSizeErr\n--------- DomstringSizeErr\n--------- HierarchyRequestErr\n--------- WrongDocumentErr\n--------- InvalidCharacterErr\n--------- NoDataAllowedErr\n--------- NoModificationAllowedErr\n--------- NotFoundErr\n--------- NotSupportedErr\n--------- InuseAttributeErr\n--------- InvalidStateErr\n--------- SyntaxErr\n--------- InvalidModificationErr\n--------- NamespaceErr\n--------- InvalidAccessErr\n--------- ValidationErr\n------ ValidationError\n------ EditReadOnlyBuffer\n------ _Retry\n------ InvalidLayoutError\n------ HeightIsUnknownError\n------ ExpatError\n------ ParseEscape\n------ GuardRejection\n------ ParserSyntaxError\n------ InternalParseError\n------ _PositionUpdatingFinished\n------ SimpleGetItemNotFound\n------ UncaughtAttributeError\n------ HasNoContext\n------ ParamIssue\n------ _JediError\n--------- InternalError\n--------- WrongVersion\n--------- RefactoringError\n------ OnErrorLeaf\n------ InvalidPythonEnvironment\n------ HTTPException\n--------- NotConnected\n--------- InvalidURL\n--------- UnknownProtocol\n--------- UnknownTransferEncoding\n--------- UnimplementedFileMode\n--------- IncompleteRead\n--------- ImproperConnectionState\n------------ CannotSendRequest\n------------ CannotSendHeader\n------------ ResponseNotReady\n--------- BadStatusLine\n------------ RemoteDisconnected\n--------- LineTooLong\n------ InteractivelyDefined\n------ KillEmbedded\n--- GeneratorExit\n--- KeyboardInterrupt\n--- SystemExit\n--- CancelledError\n",
          "output_type": "stream"
        }
      ],
      "execution_count": 3
    },
    {
      "cell_type": "code",
      "source": "# Ans 3:- OverflowError, ZeroDivisionError, FloatingPointError are the arithmetic error class.",
      "metadata": {
        "trusted": true
      },
      "outputs": [],
      "execution_count": 4
    },
    {
      "cell_type": "code",
      "source": "import math\n \ntry :\n    math.exp(1000)\n\nexcept OverflowError as e :\n    print(e)\n",
      "metadata": {
        "trusted": true
      },
      "outputs": [
        {
          "name": "stdout",
          "text": "math range error\n",
          "output_type": "stream"
        }
      ],
      "execution_count": 6
    },
    {
      "cell_type": "code",
      "source": "try :\n    20/0\n\nexcept ZeroDivisionError as e :\n    print(e)",
      "metadata": {
        "trusted": true
      },
      "outputs": [
        {
          "name": "stdout",
          "text": "division by zero\n",
          "output_type": "stream"
        }
      ],
      "execution_count": 7
    },
    {
      "cell_type": "code",
      "source": "# Ans 4:- To look up a specific error code, execute the command – Err (errro code). ",
      "metadata": {
        "trusted": true
      },
      "outputs": [],
      "execution_count": 8
    },
    {
      "cell_type": "code",
      "source": "try :\n    d = {\"name\" : \"vishakha\" , \"occ\" : \"datascientist\"}\n    d[\"age\"]\n     \nexcept KeyError as e :\n    print(e)",
      "metadata": {
        "trusted": true
      },
      "outputs": [
        {
          "name": "stdout",
          "text": "'age'\n",
          "output_type": "stream"
        }
      ],
      "execution_count": 9
    },
    {
      "cell_type": "code",
      "source": "try :\n    l = [1,2,3,4]\n    l[6]\nexcept IndexError as e :\n    print(e)",
      "metadata": {
        "trusted": true
      },
      "outputs": [
        {
          "name": "stdout",
          "text": "list index out of range\n",
          "output_type": "stream"
        }
      ],
      "execution_count": 10
    },
    {
      "cell_type": "code",
      "source": "# Ans 5:- Import error is appear when we import a library which do not exist.\n#         ModuleNotFoundError is appear when we open a file which do not exist",
      "metadata": {
        "trusted": true
      },
      "outputs": [],
      "execution_count": 12
    },
    {
      "cell_type": "code",
      "source": "# Ans 6:- Some best practices for exception handling are :\n# use specific exception,\n# print always a proper message, \n# print always a proper message, \n# document all the error,\n# i.e u shld write ur purpose behind ur code,\n# cleanup all the resourses.",
      "metadata": {
        "trusted": true
      },
      "outputs": [],
      "execution_count": null
    }
  ]
}